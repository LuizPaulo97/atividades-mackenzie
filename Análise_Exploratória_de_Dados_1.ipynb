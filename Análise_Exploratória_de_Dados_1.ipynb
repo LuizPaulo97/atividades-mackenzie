{
  "nbformat": 4,
  "nbformat_minor": 0,
  "metadata": {
    "colab": {
      "name": "Atividade de Aprofundamento_2",
      "provenance": [],
      "include_colab_link": true
    },
    "kernelspec": {
      "name": "python3",
      "display_name": "Python 3"
    },
    "language_info": {
      "name": "python"
    }
  },
  "cells": [
    {
      "cell_type": "markdown",
      "metadata": {
        "id": "view-in-github",
        "colab_type": "text"
      },
      "source": [
        "<a href=\"https://colab.research.google.com/github/LuizPaulo97/atividades-mackenzie/blob/main/An%C3%A1lise_Explorat%C3%B3ria_de_Dados_1.ipynb\" target=\"_parent\"><img src=\"https://colab.research.google.com/assets/colab-badge.svg\" alt=\"Open In Colab\"/></a>"
      ]
    },
    {
      "cell_type": "markdown",
      "source": [
        "### Atividade de Aprofundamento 2 - Análise Exploratória de Dados 1\n",
        "Aluno: Luiz Paulo de Lima Pacheco"
      ],
      "metadata": {
        "id": "1SAP757dYN55"
      }
    },
    {
      "cell_type": "markdown",
      "source": [
        "Diante da riqueza de dados disponível no site Gapminder, foi optado por fazer uma análise social e econômica do cenário Brasileiro considerando o período entre 1960 e 2019 (último ano disponível). Com isso, foram analisados alguns indicadores de relevância como mortalidade infantil, índice de Gini, PIB Per Capita, Expectativa de Vida e Taxa de Inflação ao longo dos anos. Com tais indicadores, é possível realizar um mapeamento do cenário brasileiro ao longo dos anos."
      ],
      "metadata": {
        "id": "wh0OlXVFJp2G"
      }
    },
    {
      "cell_type": "markdown",
      "source": [
        "## **Explorando a Estrutura dos Dados**"
      ],
      "metadata": {
        "id": "AR6CaD5q_ozw"
      }
    },
    {
      "cell_type": "markdown",
      "source": [
        "Foram escolhidos cinco indicadores para o estudo. Cada indicador foi importado como arquivo .csv e sofreram tratamentos em seus dataframes: filtro de período temporal e filtro de seleção do país (Brasil) conforme mostrado abaixo. Também foram realizados sucessivos joins (merges) entre os dataframes para a construção de um dataframe geral, chamado indicadores. "
      ],
      "metadata": {
        "id": "rzyzFSM0KDFD"
      }
    },
    {
      "cell_type": "code",
      "execution_count": null,
      "metadata": {
        "id": "uyOCPtbirgjx"
      },
      "outputs": [],
      "source": [
        "import numpy as np\n",
        "import pandas as pd\n",
        "import matplotlib.pyplot as plt\n",
        "%matplotlib inline \n",
        "import seaborn as sns"
      ]
    },
    {
      "cell_type": "code",
      "source": [
        "#Importando o dataframe com o nível de Mortalidade Infantil a cada 1000 nascidos\n",
        "mortalidade = pd.read_csv('https://raw.githubusercontent.com/LuizPaulo97/luiz-paulo-pacheco/main/child_mortality_0_5_year_olds_dying_per_1000_born.csv')\n",
        "mortalidade = pd.melt(mortalidade, id_vars=['country'])\n",
        "mortalidade = mortalidade.rename(columns={'variable':'year','value':'mortalidade_infantil'})\n",
        "filtro1 = mortalidade[mortalidade['year']>'1959']\n",
        "filtro1a = filtro1[(filtro1['year']<'2020') & (filtro1['country']=='Brazil')].reset_index(drop=True)\n",
        "#display(filtro1a.head())\n",
        "\n",
        "#Importando o dataframe com o índice de Gini (indicador de desigualdade social - concentração de riquezas)\n",
        "gini = pd.read_csv('https://raw.githubusercontent.com/LuizPaulo97/luiz-paulo-pacheco/main/gini.csv')\n",
        "gini = pd.melt(gini,id_vars=['country'])\n",
        "gini = gini.rename(columns={'variable':'year','value':'gini'})\n",
        "filtro2 = gini[gini['year']>'1959']\n",
        "filtro2a = filtro2[(filtro2['year']<'2020') & (filtro2['country']=='Brazil')].reset_index(drop=True)\n",
        "#display(filtro2a.head())\n",
        "\n",
        "#Importando o dataframe com a expectativa de vida da população  \n",
        "expectativa_de_vida = pd.read_csv('https://raw.githubusercontent.com/LuizPaulo97/luiz-paulo-pacheco/main/life_expectancy_years.csv')\n",
        "expectativa_de_vida = pd.melt(expectativa_de_vida,id_vars=['country'])\n",
        "expectativa_de_vida = expectativa_de_vida.rename(columns={'variable':'year','value':'expectativa_de_vida'})\n",
        "filtro3 = expectativa_de_vida[expectativa_de_vida['year']>'1959']\n",
        "filtro3a = filtro3[(filtro3['year']<'2020') & (filtro3['country']=='Brazil')].reset_index(drop=True)\n",
        "#display(filtro3a.head())\n",
        "\n",
        "#Importando o dataframe com o PIB per Capita ajustado à inflação\n",
        "pib = pd.read_csv('https://raw.githubusercontent.com/LuizPaulo97/luiz-paulo-pacheco/main/gdppercapita_us_inflation_adjusted.csv')\n",
        "pib = pd.melt(pib,id_vars=['country'])\n",
        "pib = pib.rename(columns={'variable':'year','value':'pib_per_capita'})\n",
        "filtro4 = pib[pib['year']>'1959']\n",
        "filtro4a = filtro4[(filtro4['year']<'2020') & (filtro4['country']=='Brazil')].reset_index(drop=True)\n",
        "#display(filtro4a.head())\n",
        "\n",
        "#Importando o dataframe com o índice de Inflação\n",
        "inflacao = pd.read_csv('https://raw.githubusercontent.com/LuizPaulo97/luiz-paulo-pacheco/main/inflation_annual_percent.csv')\n",
        "inflacao = pd.melt(inflacao,id_vars=['country'])\n",
        "inflacao = inflacao.rename(columns={'variable':'year','value':'inflacao_anual'})\n",
        "filtro5 = inflacao[inflacao['year']>'1959']\n",
        "filtro5a = filtro5[(filtro5['year']<'2020') & (filtro5['country']=='Brazil')].reset_index(drop=True)\n",
        "#display(filtro5a.head())\n",
        "\n",
        "#Fazendo o join entre mortalidade infantil no Brasil e indice de gini no Brasil\n",
        "filtro1a = pd.merge(filtro1a,filtro2a[['year','gini']], on = 'year')\n",
        "#Fazendo o join entre o dataframe anterior e o índice de Expectativa de Vida no Brasil\n",
        "filtro3a = pd.merge(filtro1a,filtro3a[['year','expectativa_de_vida']], on = 'year')\n",
        "#Fazendo o join entre o dataframe anterior e o PIB Per Capita no Brasil\n",
        "filtro4a = pd.merge(filtro3a,filtro4a[['year','pib_per_capita']], on = 'year')\n",
        "#Fazendo o join entre o dataframe anterior e a inflação anual no Brasil\n",
        "indicadores = pd.merge(filtro4a,filtro5a[['year','inflacao_anual']], on = 'year')\n",
        "display(indicadores.head())\n",
        "\n",
        "data_types_dict = {'pib_per_capita':float}\n",
        "indicadores = indicadores.astype(data_types_dict)\n",
        "data_types_dict = {'inflacao_anual':float}\n",
        "indicadores = indicadores.astype(data_types_dict)\n",
        "indicadores['year'] = pd.to_datetime(indicadores['year'], errors='coerce').dt.year\n",
        "display(indicadores.dtypes)\n"
      ],
      "metadata": {
        "id": "V-JXbOYXr9D-",
        "colab": {
          "base_uri": "https://localhost:8080/",
          "height": 345
        },
        "outputId": "abc60810-7245-4c8f-ef56-6e6ed95d5ff2"
      },
      "execution_count": null,
      "outputs": [
        {
          "output_type": "display_data",
          "data": {
            "text/plain": [
              "  country  year  mortalidade_infantil  gini  expectativa_de_vida  \\\n",
              "0  Brazil  1960                 165.0  55.7                 53.0   \n",
              "1  Brazil  1961                 160.0  56.1                 53.5   \n",
              "2  Brazil  1962                 156.0  56.5                 54.0   \n",
              "3  Brazil  1963                 152.0  56.8                 54.4   \n",
              "4  Brazil  1964                 148.0  57.1                 54.8   \n",
              "\n",
              "  pib_per_capita inflacao_anual  \n",
              "0           2820           31.3  \n",
              "1           2880           78.8  \n",
              "2           2830           69.8  \n",
              "3           2840           93.8  \n",
              "4           2850           51.4  "
            ],
            "text/html": [
              "\n",
              "  <div id=\"df-f7515904-4dac-49f0-8612-9ad3731dd752\">\n",
              "    <div class=\"colab-df-container\">\n",
              "      <div>\n",
              "<style scoped>\n",
              "    .dataframe tbody tr th:only-of-type {\n",
              "        vertical-align: middle;\n",
              "    }\n",
              "\n",
              "    .dataframe tbody tr th {\n",
              "        vertical-align: top;\n",
              "    }\n",
              "\n",
              "    .dataframe thead th {\n",
              "        text-align: right;\n",
              "    }\n",
              "</style>\n",
              "<table border=\"1\" class=\"dataframe\">\n",
              "  <thead>\n",
              "    <tr style=\"text-align: right;\">\n",
              "      <th></th>\n",
              "      <th>country</th>\n",
              "      <th>year</th>\n",
              "      <th>mortalidade_infantil</th>\n",
              "      <th>gini</th>\n",
              "      <th>expectativa_de_vida</th>\n",
              "      <th>pib_per_capita</th>\n",
              "      <th>inflacao_anual</th>\n",
              "    </tr>\n",
              "  </thead>\n",
              "  <tbody>\n",
              "    <tr>\n",
              "      <th>0</th>\n",
              "      <td>Brazil</td>\n",
              "      <td>1960</td>\n",
              "      <td>165.0</td>\n",
              "      <td>55.7</td>\n",
              "      <td>53.0</td>\n",
              "      <td>2820</td>\n",
              "      <td>31.3</td>\n",
              "    </tr>\n",
              "    <tr>\n",
              "      <th>1</th>\n",
              "      <td>Brazil</td>\n",
              "      <td>1961</td>\n",
              "      <td>160.0</td>\n",
              "      <td>56.1</td>\n",
              "      <td>53.5</td>\n",
              "      <td>2880</td>\n",
              "      <td>78.8</td>\n",
              "    </tr>\n",
              "    <tr>\n",
              "      <th>2</th>\n",
              "      <td>Brazil</td>\n",
              "      <td>1962</td>\n",
              "      <td>156.0</td>\n",
              "      <td>56.5</td>\n",
              "      <td>54.0</td>\n",
              "      <td>2830</td>\n",
              "      <td>69.8</td>\n",
              "    </tr>\n",
              "    <tr>\n",
              "      <th>3</th>\n",
              "      <td>Brazil</td>\n",
              "      <td>1963</td>\n",
              "      <td>152.0</td>\n",
              "      <td>56.8</td>\n",
              "      <td>54.4</td>\n",
              "      <td>2840</td>\n",
              "      <td>93.8</td>\n",
              "    </tr>\n",
              "    <tr>\n",
              "      <th>4</th>\n",
              "      <td>Brazil</td>\n",
              "      <td>1964</td>\n",
              "      <td>148.0</td>\n",
              "      <td>57.1</td>\n",
              "      <td>54.8</td>\n",
              "      <td>2850</td>\n",
              "      <td>51.4</td>\n",
              "    </tr>\n",
              "  </tbody>\n",
              "</table>\n",
              "</div>\n",
              "      <button class=\"colab-df-convert\" onclick=\"convertToInteractive('df-f7515904-4dac-49f0-8612-9ad3731dd752')\"\n",
              "              title=\"Convert this dataframe to an interactive table.\"\n",
              "              style=\"display:none;\">\n",
              "        \n",
              "  <svg xmlns=\"http://www.w3.org/2000/svg\" height=\"24px\"viewBox=\"0 0 24 24\"\n",
              "       width=\"24px\">\n",
              "    <path d=\"M0 0h24v24H0V0z\" fill=\"none\"/>\n",
              "    <path d=\"M18.56 5.44l.94 2.06.94-2.06 2.06-.94-2.06-.94-.94-2.06-.94 2.06-2.06.94zm-11 1L8.5 8.5l.94-2.06 2.06-.94-2.06-.94L8.5 2.5l-.94 2.06-2.06.94zm10 10l.94 2.06.94-2.06 2.06-.94-2.06-.94-.94-2.06-.94 2.06-2.06.94z\"/><path d=\"M17.41 7.96l-1.37-1.37c-.4-.4-.92-.59-1.43-.59-.52 0-1.04.2-1.43.59L10.3 9.45l-7.72 7.72c-.78.78-.78 2.05 0 2.83L4 21.41c.39.39.9.59 1.41.59.51 0 1.02-.2 1.41-.59l7.78-7.78 2.81-2.81c.8-.78.8-2.07 0-2.86zM5.41 20L4 18.59l7.72-7.72 1.47 1.35L5.41 20z\"/>\n",
              "  </svg>\n",
              "      </button>\n",
              "      \n",
              "  <style>\n",
              "    .colab-df-container {\n",
              "      display:flex;\n",
              "      flex-wrap:wrap;\n",
              "      gap: 12px;\n",
              "    }\n",
              "\n",
              "    .colab-df-convert {\n",
              "      background-color: #E8F0FE;\n",
              "      border: none;\n",
              "      border-radius: 50%;\n",
              "      cursor: pointer;\n",
              "      display: none;\n",
              "      fill: #1967D2;\n",
              "      height: 32px;\n",
              "      padding: 0 0 0 0;\n",
              "      width: 32px;\n",
              "    }\n",
              "\n",
              "    .colab-df-convert:hover {\n",
              "      background-color: #E2EBFA;\n",
              "      box-shadow: 0px 1px 2px rgba(60, 64, 67, 0.3), 0px 1px 3px 1px rgba(60, 64, 67, 0.15);\n",
              "      fill: #174EA6;\n",
              "    }\n",
              "\n",
              "    [theme=dark] .colab-df-convert {\n",
              "      background-color: #3B4455;\n",
              "      fill: #D2E3FC;\n",
              "    }\n",
              "\n",
              "    [theme=dark] .colab-df-convert:hover {\n",
              "      background-color: #434B5C;\n",
              "      box-shadow: 0px 1px 3px 1px rgba(0, 0, 0, 0.15);\n",
              "      filter: drop-shadow(0px 1px 2px rgba(0, 0, 0, 0.3));\n",
              "      fill: #FFFFFF;\n",
              "    }\n",
              "  </style>\n",
              "\n",
              "      <script>\n",
              "        const buttonEl =\n",
              "          document.querySelector('#df-f7515904-4dac-49f0-8612-9ad3731dd752 button.colab-df-convert');\n",
              "        buttonEl.style.display =\n",
              "          google.colab.kernel.accessAllowed ? 'block' : 'none';\n",
              "\n",
              "        async function convertToInteractive(key) {\n",
              "          const element = document.querySelector('#df-f7515904-4dac-49f0-8612-9ad3731dd752');\n",
              "          const dataTable =\n",
              "            await google.colab.kernel.invokeFunction('convertToInteractive',\n",
              "                                                     [key], {});\n",
              "          if (!dataTable) return;\n",
              "\n",
              "          const docLinkHtml = 'Like what you see? Visit the ' +\n",
              "            '<a target=\"_blank\" href=https://colab.research.google.com/notebooks/data_table.ipynb>data table notebook</a>'\n",
              "            + ' to learn more about interactive tables.';\n",
              "          element.innerHTML = '';\n",
              "          dataTable['output_type'] = 'display_data';\n",
              "          await google.colab.output.renderOutput(dataTable, element);\n",
              "          const docLink = document.createElement('div');\n",
              "          docLink.innerHTML = docLinkHtml;\n",
              "          element.appendChild(docLink);\n",
              "        }\n",
              "      </script>\n",
              "    </div>\n",
              "  </div>\n",
              "  "
            ]
          },
          "metadata": {}
        },
        {
          "output_type": "display_data",
          "data": {
            "text/plain": [
              "country                  object\n",
              "year                      int64\n",
              "mortalidade_infantil    float64\n",
              "gini                    float64\n",
              "expectativa_de_vida     float64\n",
              "pib_per_capita          float64\n",
              "inflacao_anual          float64\n",
              "dtype: object"
            ]
          },
          "metadata": {}
        }
      ]
    },
    {
      "cell_type": "markdown",
      "source": [
        "## **Verificando a Qualidade dos Dados**"
      ],
      "metadata": {
        "id": "dq1tgpGmee36"
      }
    },
    {
      "cell_type": "markdown",
      "source": [
        "Nesta etapa, inicialmente foi feita uma análise acerca da qualidade dos dados, visando observar se havia algum dado nulo."
      ],
      "metadata": {
        "id": "oMabJ1DVJyfc"
      }
    },
    {
      "cell_type": "code",
      "source": [
        "print(indicadores.isnull().sum())"
      ],
      "metadata": {
        "colab": {
          "base_uri": "https://localhost:8080/"
        },
        "id": "0fycTZbnd-8y",
        "outputId": "d38492bd-b949-495d-b9ca-108dc2096cd9"
      },
      "execution_count": null,
      "outputs": [
        {
          "output_type": "stream",
          "name": "stdout",
          "text": [
            "country                 0\n",
            "year                    0\n",
            "mortalidade_infantil    0\n",
            "gini                    0\n",
            "expectativa_de_vida     0\n",
            "pib_per_capita          0\n",
            "inflacao_anual          0\n",
            "dtype: int64\n"
          ]
        }
      ]
    },
    {
      "cell_type": "markdown",
      "source": [
        "Observando-se a qualidade dos dados, foi calculado também um resumo com as estatísticas relevantes para cada atributo."
      ],
      "metadata": {
        "id": "G-fEy1yQJ6tG"
      }
    },
    {
      "cell_type": "code",
      "source": [
        "print(indicadores.describe())"
      ],
      "metadata": {
        "colab": {
          "base_uri": "https://localhost:8080/"
        },
        "id": "ADWZekYzkZMZ",
        "outputId": "84f08e60-5ce5-452b-c633-7c37c5a10ee0"
      },
      "execution_count": null,
      "outputs": [
        {
          "output_type": "stream",
          "name": "stdout",
          "text": [
            "              year  mortalidade_infantil       gini  expectativa_de_vida  \\\n",
            "count    60.000000             60.000000  60.000000            60.000000   \n",
            "mean   1989.500000             70.810000  56.981667            66.213333   \n",
            "std      17.464249             48.480612   2.502913             7.128469   \n",
            "min    1960.000000             13.500000  51.900000            53.000000   \n",
            "25%    1974.750000             24.500000  55.425000            60.250000   \n",
            "50%    1989.500000             61.600000  57.850000            67.600000   \n",
            "75%    2004.250000            113.000000  58.400000            72.875000   \n",
            "max    2019.000000            165.000000  63.300000            75.800000   \n",
            "\n",
            "       pib_per_capita  inflacao_anual  \n",
            "count       60.000000       60.000000  \n",
            "mean      6213.666667      209.012167  \n",
            "std       1873.774372      540.193229  \n",
            "min       2820.000000        3.670000  \n",
            "25%       5497.500000        7.917500  \n",
            "50%       6410.000000       24.700000  \n",
            "75%       7402.500000       90.575000  \n",
            "max       9250.000000     2700.000000  \n"
          ]
        }
      ]
    },
    {
      "cell_type": "markdown",
      "source": [
        "## **Qual foi o ano com a maior taxa de mortalidade infantil e nível de desigualdade (medido pelo índice de Gini)? Como se deu a evolução anual desses indicadores?**"
      ],
      "metadata": {
        "id": "xoMI0L4lfIeQ"
      }
    },
    {
      "cell_type": "code",
      "source": [
        "indicadores.loc[indicadores.mortalidade_infantil.nlargest(1).index][['year','mortalidade_infantil']]"
      ],
      "metadata": {
        "colab": {
          "base_uri": "https://localhost:8080/",
          "height": 81
        },
        "id": "GPaQfhD9gM8f",
        "outputId": "241e2324-558c-4a9e-a1f8-fd0350e2a678"
      },
      "execution_count": null,
      "outputs": [
        {
          "output_type": "execute_result",
          "data": {
            "text/plain": [
              "   year  mortalidade_infantil\n",
              "0  1960                 165.0"
            ],
            "text/html": [
              "\n",
              "  <div id=\"df-a1fd5e5a-c118-4588-a8d5-7678bb043009\">\n",
              "    <div class=\"colab-df-container\">\n",
              "      <div>\n",
              "<style scoped>\n",
              "    .dataframe tbody tr th:only-of-type {\n",
              "        vertical-align: middle;\n",
              "    }\n",
              "\n",
              "    .dataframe tbody tr th {\n",
              "        vertical-align: top;\n",
              "    }\n",
              "\n",
              "    .dataframe thead th {\n",
              "        text-align: right;\n",
              "    }\n",
              "</style>\n",
              "<table border=\"1\" class=\"dataframe\">\n",
              "  <thead>\n",
              "    <tr style=\"text-align: right;\">\n",
              "      <th></th>\n",
              "      <th>year</th>\n",
              "      <th>mortalidade_infantil</th>\n",
              "    </tr>\n",
              "  </thead>\n",
              "  <tbody>\n",
              "    <tr>\n",
              "      <th>0</th>\n",
              "      <td>1960</td>\n",
              "      <td>165.0</td>\n",
              "    </tr>\n",
              "  </tbody>\n",
              "</table>\n",
              "</div>\n",
              "      <button class=\"colab-df-convert\" onclick=\"convertToInteractive('df-a1fd5e5a-c118-4588-a8d5-7678bb043009')\"\n",
              "              title=\"Convert this dataframe to an interactive table.\"\n",
              "              style=\"display:none;\">\n",
              "        \n",
              "  <svg xmlns=\"http://www.w3.org/2000/svg\" height=\"24px\"viewBox=\"0 0 24 24\"\n",
              "       width=\"24px\">\n",
              "    <path d=\"M0 0h24v24H0V0z\" fill=\"none\"/>\n",
              "    <path d=\"M18.56 5.44l.94 2.06.94-2.06 2.06-.94-2.06-.94-.94-2.06-.94 2.06-2.06.94zm-11 1L8.5 8.5l.94-2.06 2.06-.94-2.06-.94L8.5 2.5l-.94 2.06-2.06.94zm10 10l.94 2.06.94-2.06 2.06-.94-2.06-.94-.94-2.06-.94 2.06-2.06.94z\"/><path d=\"M17.41 7.96l-1.37-1.37c-.4-.4-.92-.59-1.43-.59-.52 0-1.04.2-1.43.59L10.3 9.45l-7.72 7.72c-.78.78-.78 2.05 0 2.83L4 21.41c.39.39.9.59 1.41.59.51 0 1.02-.2 1.41-.59l7.78-7.78 2.81-2.81c.8-.78.8-2.07 0-2.86zM5.41 20L4 18.59l7.72-7.72 1.47 1.35L5.41 20z\"/>\n",
              "  </svg>\n",
              "      </button>\n",
              "      \n",
              "  <style>\n",
              "    .colab-df-container {\n",
              "      display:flex;\n",
              "      flex-wrap:wrap;\n",
              "      gap: 12px;\n",
              "    }\n",
              "\n",
              "    .colab-df-convert {\n",
              "      background-color: #E8F0FE;\n",
              "      border: none;\n",
              "      border-radius: 50%;\n",
              "      cursor: pointer;\n",
              "      display: none;\n",
              "      fill: #1967D2;\n",
              "      height: 32px;\n",
              "      padding: 0 0 0 0;\n",
              "      width: 32px;\n",
              "    }\n",
              "\n",
              "    .colab-df-convert:hover {\n",
              "      background-color: #E2EBFA;\n",
              "      box-shadow: 0px 1px 2px rgba(60, 64, 67, 0.3), 0px 1px 3px 1px rgba(60, 64, 67, 0.15);\n",
              "      fill: #174EA6;\n",
              "    }\n",
              "\n",
              "    [theme=dark] .colab-df-convert {\n",
              "      background-color: #3B4455;\n",
              "      fill: #D2E3FC;\n",
              "    }\n",
              "\n",
              "    [theme=dark] .colab-df-convert:hover {\n",
              "      background-color: #434B5C;\n",
              "      box-shadow: 0px 1px 3px 1px rgba(0, 0, 0, 0.15);\n",
              "      filter: drop-shadow(0px 1px 2px rgba(0, 0, 0, 0.3));\n",
              "      fill: #FFFFFF;\n",
              "    }\n",
              "  </style>\n",
              "\n",
              "      <script>\n",
              "        const buttonEl =\n",
              "          document.querySelector('#df-a1fd5e5a-c118-4588-a8d5-7678bb043009 button.colab-df-convert');\n",
              "        buttonEl.style.display =\n",
              "          google.colab.kernel.accessAllowed ? 'block' : 'none';\n",
              "\n",
              "        async function convertToInteractive(key) {\n",
              "          const element = document.querySelector('#df-a1fd5e5a-c118-4588-a8d5-7678bb043009');\n",
              "          const dataTable =\n",
              "            await google.colab.kernel.invokeFunction('convertToInteractive',\n",
              "                                                     [key], {});\n",
              "          if (!dataTable) return;\n",
              "\n",
              "          const docLinkHtml = 'Like what you see? Visit the ' +\n",
              "            '<a target=\"_blank\" href=https://colab.research.google.com/notebooks/data_table.ipynb>data table notebook</a>'\n",
              "            + ' to learn more about interactive tables.';\n",
              "          element.innerHTML = '';\n",
              "          dataTable['output_type'] = 'display_data';\n",
              "          await google.colab.output.renderOutput(dataTable, element);\n",
              "          const docLink = document.createElement('div');\n",
              "          docLink.innerHTML = docLinkHtml;\n",
              "          element.appendChild(docLink);\n",
              "        }\n",
              "      </script>\n",
              "    </div>\n",
              "  </div>\n",
              "  "
            ]
          },
          "metadata": {},
          "execution_count": 5
        }
      ]
    },
    {
      "cell_type": "code",
      "source": [
        "plt.figure(figsize=(12,4))\n",
        "sns.lineplot(x=indicadores.year, y= indicadores.mortalidade_infantil, label = 'Mortes Infantis', color = 'r')\n",
        "plt.title('Mortalidade Infantil Anual (a cada 1000 nascimentos)',fontsize=14,weight='bold')\n",
        "plt.legend()\n",
        "plt.show()"
      ],
      "metadata": {
        "colab": {
          "base_uri": "https://localhost:8080/",
          "height": 296
        },
        "id": "aG1lZKWZ5hLz",
        "outputId": "7f79c718-024c-4b35-d83c-09d70211e136"
      },
      "execution_count": null,
      "outputs": [
        {
          "output_type": "display_data",
          "data": {
            "text/plain": [
              "<Figure size 864x288 with 1 Axes>"
            ],
            "image/png": "[encoded data removed]"
          },
          "metadata": {
            "needs_background": "light"
          }
        }
      ]
    },
    {
      "cell_type": "markdown",
      "source": [
        "Como observado no gráfico, o ano de 1960 foi o ano com a maior taxa de mortalidade infantil da amostra. É possível destacar ainda na evolução que o período entre as décadas de 60 e 70 registraram a maior taxa de mortalidade infantil na história recente."
      ],
      "metadata": {
        "id": "0OdTGOfNH5AT"
      }
    },
    {
      "cell_type": "code",
      "source": [
        "indicadores.loc[indicadores.gini.nlargest(1).index][['year','gini']]"
      ],
      "metadata": {
        "colab": {
          "base_uri": "https://localhost:8080/",
          "height": 81
        },
        "id": "efuw9sCphS6P",
        "outputId": "0517c966-c39f-4c9e-9df4-607346b3ca54"
      },
      "execution_count": null,
      "outputs": [
        {
          "output_type": "execute_result",
          "data": {
            "text/plain": [
              "    year  gini\n",
              "28  1988  63.3"
            ],
            "text/html": [
              "\n",
              "  <div id=\"df-74d8406a-5ddc-4cd6-a308-e7ca48426dba\">\n",
              "    <div class=\"colab-df-container\">\n",
              "      <div>\n",
              "<style scoped>\n",
              "    .dataframe tbody tr th:only-of-type {\n",
              "        vertical-align: middle;\n",
              "    }\n",
              "\n",
              "    .dataframe tbody tr th {\n",
              "        vertical-align: top;\n",
              "    }\n",
              "\n",
              "    .dataframe thead th {\n",
              "        text-align: right;\n",
              "    }\n",
              "</style>\n",
              "<table border=\"1\" class=\"dataframe\">\n",
              "  <thead>\n",
              "    <tr style=\"text-align: right;\">\n",
              "      <th></th>\n",
              "      <th>year</th>\n",
              "      <th>gini</th>\n",
              "    </tr>\n",
              "  </thead>\n",
              "  <tbody>\n",
              "    <tr>\n",
              "      <th>28</th>\n",
              "      <td>1988</td>\n",
              "      <td>63.3</td>\n",
              "    </tr>\n",
              "  </tbody>\n",
              "</table>\n",
              "</div>\n",
              "      <button class=\"colab-df-convert\" onclick=\"convertToInteractive('df-74d8406a-5ddc-4cd6-a308-e7ca48426dba')\"\n",
              "              title=\"Convert this dataframe to an interactive table.\"\n",
              "              style=\"display:none;\">\n",
              "        \n",
              "  <svg xmlns=\"http://www.w3.org/2000/svg\" height=\"24px\"viewBox=\"0 0 24 24\"\n",
              "       width=\"24px\">\n",
              "    <path d=\"M0 0h24v24H0V0z\" fill=\"none\"/>\n",
              "    <path d=\"M18.56 5.44l.94 2.06.94-2.06 2.06-.94-2.06-.94-.94-2.06-.94 2.06-2.06.94zm-11 1L8.5 8.5l.94-2.06 2.06-.94-2.06-.94L8.5 2.5l-.94 2.06-2.06.94zm10 10l.94 2.06.94-2.06 2.06-.94-2.06-.94-.94-2.06-.94 2.06-2.06.94z\"/><path d=\"M17.41 7.96l-1.37-1.37c-.4-.4-.92-.59-1.43-.59-.52 0-1.04.2-1.43.59L10.3 9.45l-7.72 7.72c-.78.78-.78 2.05 0 2.83L4 21.41c.39.39.9.59 1.41.59.51 0 1.02-.2 1.41-.59l7.78-7.78 2.81-2.81c.8-.78.8-2.07 0-2.86zM5.41 20L4 18.59l7.72-7.72 1.47 1.35L5.41 20z\"/>\n",
              "  </svg>\n",
              "      </button>\n",
              "      \n",
              "  <style>\n",
              "    .colab-df-container {\n",
              "      display:flex;\n",
              "      flex-wrap:wrap;\n",
              "      gap: 12px;\n",
              "    }\n",
              "\n",
              "    .colab-df-convert {\n",
              "      background-color: #E8F0FE;\n",
              "      border: none;\n",
              "      border-radius: 50%;\n",
              "      cursor: pointer;\n",
              "      display: none;\n",
              "      fill: #1967D2;\n",
              "      height: 32px;\n",
              "      padding: 0 0 0 0;\n",
              "      width: 32px;\n",
              "    }\n",
              "\n",
              "    .colab-df-convert:hover {\n",
              "      background-color: #E2EBFA;\n",
              "      box-shadow: 0px 1px 2px rgba(60, 64, 67, 0.3), 0px 1px 3px 1px rgba(60, 64, 67, 0.15);\n",
              "      fill: #174EA6;\n",
              "    }\n",
              "\n",
              "    [theme=dark] .colab-df-convert {\n",
              "      background-color: #3B4455;\n",
              "      fill: #D2E3FC;\n",
              "    }\n",
              "\n",
              "    [theme=dark] .colab-df-convert:hover {\n",
              "      background-color: #434B5C;\n",
              "      box-shadow: 0px 1px 3px 1px rgba(0, 0, 0, 0.15);\n",
              "      filter: drop-shadow(0px 1px 2px rgba(0, 0, 0, 0.3));\n",
              "      fill: #FFFFFF;\n",
              "    }\n",
              "  </style>\n",
              "\n",
              "      <script>\n",
              "        const buttonEl =\n",
              "          document.querySelector('#df-74d8406a-5ddc-4cd6-a308-e7ca48426dba button.colab-df-convert');\n",
              "        buttonEl.style.display =\n",
              "          google.colab.kernel.accessAllowed ? 'block' : 'none';\n",
              "\n",
              "        async function convertToInteractive(key) {\n",
              "          const element = document.querySelector('#df-74d8406a-5ddc-4cd6-a308-e7ca48426dba');\n",
              "          const dataTable =\n",
              "            await google.colab.kernel.invokeFunction('convertToInteractive',\n",
              "                                                     [key], {});\n",
              "          if (!dataTable) return;\n",
              "\n",
              "          const docLinkHtml = 'Like what you see? Visit the ' +\n",
              "            '<a target=\"_blank\" href=https://colab.research.google.com/notebooks/data_table.ipynb>data table notebook</a>'\n",
              "            + ' to learn more about interactive tables.';\n",
              "          element.innerHTML = '';\n",
              "          dataTable['output_type'] = 'display_data';\n",
              "          await google.colab.output.renderOutput(dataTable, element);\n",
              "          const docLink = document.createElement('div');\n",
              "          docLink.innerHTML = docLinkHtml;\n",
              "          element.appendChild(docLink);\n",
              "        }\n",
              "      </script>\n",
              "    </div>\n",
              "  </div>\n",
              "  "
            ]
          },
          "metadata": {},
          "execution_count": 8
        }
      ]
    },
    {
      "cell_type": "code",
      "source": [
        "plt.figure(figsize=(12,4))\n",
        "sns.lineplot(x=indicadores.year, y= indicadores.gini, label = 'Índice de Gini', color ='c')\n",
        "plt.title('Índice de Gini Anual',fontsize=14,weight='bold')\n",
        "plt.legend()\n",
        "\n",
        "plt.tight_layout()\n",
        "plt.show()"
      ],
      "metadata": {
        "colab": {
          "base_uri": "https://localhost:8080/",
          "height": 297
        },
        "id": "O0XIhjyP7UPm",
        "outputId": "efda7c8e-8b1f-47ea-c8bd-92f90dbbb7b6"
      },
      "execution_count": null,
      "outputs": [
        {
          "output_type": "display_data",
          "data": {
            "text/plain": [
              "<Figure size 864x288 with 1 Axes>"
            ],
            "image/png": "[encoded data removed]"
          },
          "metadata": {
            "needs_background": "light"
          }
        }
      ]
    },
    {
      "cell_type": "markdown",
      "source": [
        "Com os dados acima, é possível inferir que mais próximo do fim da década de 80 e o início da década de 90 marcou o momento de maior desigualdade financeira no Brasil, com o ano de 1988 sendo o pior momento (índice de Gini = 63,3%)."
      ],
      "metadata": {
        "id": "mCO44tHwHZmJ"
      }
    },
    {
      "cell_type": "markdown",
      "source": [
        "## **Com base nos dados, como se comportam as tendências da inflação anual (%) e do PIB Per Capita Anual nos últimos 10 anos ?**"
      ],
      "metadata": {
        "id": "wtGO7xQOgLSy"
      }
    },
    {
      "cell_type": "markdown",
      "source": [
        "Para essa análise de tendência, foram plotados dois gráficos de regressão linear: um pra inflação anual (%) e outro pro PIB Per Capita. Assim, é possível identificar e fazer possíveis projeções de cenários."
      ],
      "metadata": {
        "id": "PMUc9fXCITSp"
      }
    },
    {
      "cell_type": "code",
      "source": [
        "#criando um novo dataframe com dados a partir de 2010\n",
        "indicadores1 = indicadores[indicadores['year']>2009] \n",
        "indicadores1.index\n",
        "\n",
        "#Plotando o gráfico do PIB\n",
        "plt.figure(figsize=(15,4))\n",
        "ax = plt.subplot(1,2,1)\n",
        "ax.plot(indicadores1.index, indicadores1.pib_per_capita, color = 'r', label='PIB per Capita', alpha = 0.3)\n",
        "\n",
        "ax.set_title('Tendência do PIB Per Capita', fontsize=14, weight='bold')\n",
        "ax.set_xlabel(\"year\")\n",
        "ax.set_ylabel(\"Valor (R$)\")\n",
        "\n",
        "z = np.polyfit(indicadores1.index,indicadores1.pib_per_capita, 1)\n",
        "p = np.poly1d(z)\n",
        "ax.plot(indicadores1.index,p(indicadores1.index), linestyle='dashed', label='PIB Per Capita (Linear)' ,linewidth=2, color='r')\n",
        "\n",
        "ax.legend(fontsize=12)\n",
        "\n",
        "import matplotlib.ticker as ticker\n",
        "ax.xaxis.set_major_locator(ticker.MaxNLocator(5))\n",
        "ax.set_xticklabels(['',indicadores.iloc[50].year,indicadores.iloc[52].year,indicadores.iloc[54].year,indicadores.iloc[56].year,indicadores.iloc[59].year])\n",
        "\n",
        "#Plotando o Gráfico de Inflação\n",
        "ax2 = plt.subplot(1,2,2)\n",
        "ax2.plot(indicadores1.index,indicadores1.inflacao_anual, color = 'g', label='Inflação', alpha = 0.3)\n",
        "ax2.set_title('Tendência da Inflação', fontsize=14, weight='bold')\n",
        "ax2.set_xlabel(\"year\")\n",
        "ax2.set_ylabel(\"Taxa (%)\")\n",
        "\n",
        "z = np.polyfit(indicadores1.index,indicadores1.inflacao_anual, 1)\n",
        "p = np.poly1d(z)\n",
        "ax2.plot(indicadores1.index,p(indicadores1.index), linestyle='dashed', label='Inflação (Linear)' ,linewidth=2, color='g')\n",
        "\n",
        "ax2.legend(fontsize=12)\n",
        "\n",
        "import matplotlib.ticker as ticker\n",
        "ax2.xaxis.set_major_locator(ticker.MaxNLocator(5))\n",
        "ax2.set_xticklabels(['',indicadores.iloc[50].year,indicadores.iloc[52].year,indicadores.iloc[54].year,indicadores.iloc[56].year,indicadores.iloc[59].year])\n",
        "\n",
        "plt.tight_layout()\n",
        "plt.show()"
      ],
      "metadata": {
        "id": "znygoJbXgl_3",
        "colab": {
          "base_uri": "https://localhost:8080/",
          "height": 297
        },
        "outputId": "2ca2136b-5523-4597-d0ba-2f0f13254268"
      },
      "execution_count": null,
      "outputs": [
        {
          "output_type": "display_data",
          "data": {
            "text/plain": [
              "<Figure size 1080x288 with 2 Axes>"
            ],
            "image/png": "[encoded data removed]"
          },
          "metadata": {
            "needs_background": "light"
          }
        }
      ]
    },
    {
      "cell_type": "markdown",
      "source": [
        "A partir da análise dos gráficos, observa-se que tanto o PIB Per Capita quanto a Inflação Anual apresentaram uma tendência de queda nos últimos 10 anos. O PIB por sua vez registrou uma queda relativamente mais lenta e em menor proporção, se comparado com a taxa de inflação que apresentou uma queda de mais de 50% em 2016, embora tenha voltado a aumentar em 2019."
      ],
      "metadata": {
        "id": "g9w4aXf7IZ0k"
      }
    },
    {
      "cell_type": "markdown",
      "source": [
        "##**Existe correlação entre Índice de Gini e PIB Per Capita?**"
      ],
      "metadata": {
        "id": "Iv17qUCcmaGv"
      }
    },
    {
      "cell_type": "code",
      "source": [
        "plt.figure(figsize=(12,4))\n",
        "sns.regplot(x='gini', y='pib_per_capita', data=indicadores, color = 'b')\n",
        "plt.title('Correlação ',fontsize=14,weight='bold')\n",
        "\n",
        "plt.show()"
      ],
      "metadata": {
        "colab": {
          "base_uri": "https://localhost:8080/",
          "height": 296
        },
        "id": "r5Jxgpo3Q-MR",
        "outputId": "75af66b2-2ab7-4021-9649-b4f18a7e54f7"
      },
      "execution_count": null,
      "outputs": [
        {
          "output_type": "display_data",
          "data": {
            "text/plain": [
              "<Figure size 864x288 with 1 Axes>"
            ],
            "image/png": "[encoded data removed]"
          },
          "metadata": {
            "needs_background": "light"
          }
        }
      ]
    },
    {
      "cell_type": "code",
      "source": [
        "correlacao = indicadores[['gini','pib_per_capita']].corr(method='pearson')\n",
        "print(correlacao)"
      ],
      "metadata": {
        "colab": {
          "base_uri": "https://localhost:8080/"
        },
        "id": "EV1iQ0UdU3C3",
        "outputId": "ec498cfd-97a9-4938-f72a-a0e663576f0e"
      },
      "execution_count": null,
      "outputs": [
        {
          "output_type": "stream",
          "name": "stdout",
          "text": [
            "                    gini  pib_per_capita\n",
            "gini            1.000000       -0.453358\n",
            "pib_per_capita -0.453358        1.000000\n"
          ]
        }
      ]
    },
    {
      "cell_type": "markdown",
      "source": [
        "Como já era esperado, o índice de Gini e o PIB Per Capita apresentam **correlação negativa (~ -0,45**). Isso ocorre, pois como citado anteriormente, o índice de Gini reflete o nível de desigualdade econômica no país. Logo, quanto menor for o PIB Per Capita, maior será o índice de Gini, e assim vice e versa."
      ],
      "metadata": {
        "id": "bF4E6x9PXJuv"
      }
    },
    {
      "cell_type": "markdown",
      "source": [
        "## **Como se compara a distribuição da expectativa de vida nos últimos 30 anos no Brasil, em relação ao período anterior?**"
      ],
      "metadata": {
        "id": "kdV4d4GQ8VBe"
      }
    },
    {
      "cell_type": "markdown",
      "source": [
        "Para se ter uma visão completa, é interessante realizar uma análise de um gráfico boxplot, comparando ambos os períodos."
      ],
      "metadata": {
        "id": "abbQNmkzI2SX"
      }
    },
    {
      "cell_type": "code",
      "source": [
        "plt.figure(figsize=(12,4))\n",
        "plt.boxplot(indicadores[indicadores.year >1989].expectativa_de_vida,positions=[1],showfliers=False)\n",
        "plt.boxplot(indicadores[indicadores.year <1989].expectativa_de_vida,positions=[2],showfliers=False)\n",
        "plt.title('Expectativa de Vida - Distribuição', fontsize = 14, weight = 'bold')\n",
        "plt.xticks(ticks=[1,2], labels=['1990-2019','1960-1989'])\n",
        "plt.show()"
      ],
      "metadata": {
        "colab": {
          "base_uri": "https://localhost:8080/",
          "height": 282
        },
        "id": "aTiIBmc480C6",
        "outputId": "6137bcfb-f3e2-4002-d8e5-fe985fbe977e"
      },
      "execution_count": null,
      "outputs": [
        {
          "output_type": "display_data",
          "data": {
            "text/plain": [
              "<Figure size 864x288 with 1 Axes>"
            ],
            "image/png": "[encoded data removed]"
          },
          "metadata": {
            "needs_background": "light"
          }
        }
      ]
    },
    {
      "cell_type": "code",
      "source": [
        "indicadores[indicadores.year <1989].expectativa_de_vida.mean()"
      ],
      "metadata": {
        "colab": {
          "base_uri": "https://localhost:8080/"
        },
        "id": "W6i5pH5-oCnQ",
        "outputId": "89b6dbe2-ecab-41ed-8e67-de77263c95ff"
      },
      "execution_count": null,
      "outputs": [
        {
          "output_type": "execute_result",
          "data": {
            "text/plain": [
              "59.82758620689654"
            ]
          },
          "metadata": {},
          "execution_count": 14
        }
      ]
    },
    {
      "cell_type": "markdown",
      "source": [
        "Como observado no gráfico, a expectativa de vida nos últimos 30 anos (1990-2019) melhorou no comparativo com o período anterior. A expectativa de vida atual, em média é de 73 anos, enquanto no período anterior, a expectativa média era de 60 anos. Além disso, as pessoas no período mais atual podem alcançar e superar 75 anos. Já no período entre 1960 e 1989, a expectativa máxima de vida era em torno de 65 anos."
      ],
      "metadata": {
        "id": "4MTG3rhAI4-B"
      }
    },
    {
      "cell_type": "markdown",
      "source": [
        "## **Nos últimos 10 anos, o Brasil teve um nível de desigualdade superior à média histórica?**"
      ],
      "metadata": {
        "id": "Lpa79rT9Rd52"
      }
    },
    {
      "cell_type": "code",
      "source": [
        "plt.figure(figsize=(12,4))\n",
        "sns.barplot(x=indicadores[indicadores.year >2009].year, y=indicadores.gini)\n",
        "plt.title('Desigualdade no Brasil - Últimos 10 anos')\n",
        "plt.hlines(indicadores.gini.mean(),-0.5,10,color='r',linestyles=':')\n",
        "plt.text(0, indicadores.gini.mean()+1,'Média Histórica do Nível de Desigualdade')\n",
        "plt.xticks(rotation=0)\n",
        "plt.ylim([0,80])\n",
        "plt.show()\n"
      ],
      "metadata": {
        "colab": {
          "base_uri": "https://localhost:8080/",
          "height": 297
        },
        "id": "xwEpFnhNTXBe",
        "outputId": "56f5acf8-1e49-4c28-c431-6bb007c86e39"
      },
      "execution_count": null,
      "outputs": [
        {
          "output_type": "display_data",
          "data": {
            "text/plain": [
              "<Figure size 864x288 with 1 Axes>"
            ],
            "image/png": "[encoded data removed]"
          },
          "metadata": {
            "needs_background": "light"
          }
        }
      ]
    },
    {
      "cell_type": "markdown",
      "source": [
        "Como mostrado no gráfico de barras acima, no comparativo com a média histórica da amostra, o Brasil tem registrado índice inferior de desigualdade, o que significa uma melhora de cenário. Entretanto, registam valores próximos a 50% e registra também um leve aumento no indicador em 2019."
      ],
      "metadata": {
        "id": "yG1a4fdpJEFq"
      }
    },
    {
      "cell_type": "markdown",
      "source": [
        "## **Nos últimos 10 anos, o PIB Per Capita no Brasil foi inferior à média histórica, desde 1960?**"
      ],
      "metadata": {
        "id": "Bgb4UF2Tlqiq"
      }
    },
    {
      "cell_type": "code",
      "source": [
        "plt.figure(figsize=(12,4))\n",
        "sns.barplot(x=indicadores[indicadores.year >2009].year, y=indicadores.pib_per_capita)\n",
        "plt.title('PIB Per Capita Brasileiro - Últimos 10 anos')\n",
        "plt.hlines(indicadores.pib_per_capita.mean(),-0.5,10,color='r',linestyles=':')\n",
        "plt.text(0, indicadores.pib_per_capita.mean()+1,'Média Histórica do PIB Per Capita')\n",
        "plt.xticks(rotation=0)\n",
        "plt.ylim([2000,10000])\n",
        "plt.show()"
      ],
      "metadata": {
        "colab": {
          "base_uri": "https://localhost:8080/",
          "height": 297
        },
        "id": "iFfNpKYamsRO",
        "outputId": "7a88bf82-42b5-49ee-8077-c052c53e573e"
      },
      "execution_count": null,
      "outputs": [
        {
          "output_type": "display_data",
          "data": {
            "text/plain": [
              "<Figure size 864x288 with 1 Axes>"
            ],
            "image/png": "[encoded data removed]"
          },
          "metadata": {
            "needs_background": "light"
          }
        }
      ]
    },
    {
      "cell_type": "markdown",
      "source": [
        "Como mostrado no gráfico de barras acima, no comparativo com a média histórica, o Brasil tem registrado um valor bem superior de PIB Per Capita (corrigido a inflação), indicando também uma melhora no quadro socioeconômico do país."
      ],
      "metadata": {
        "id": "S90L_wNqJKAX"
      }
    },
    {
      "cell_type": "markdown",
      "source": [
        "## **Conclusão**"
      ],
      "metadata": {
        "id": "v9txNzNZJPB9"
      }
    },
    {
      "cell_type": "markdown",
      "source": [
        "Com os indicadores selecionados para construção do dataframe, seria possível realizar diversos outros tipos de análise. Entretanto, como o objetivo deste trabalho era realizar uma análise temporal e comparativa do cenário social brasileiro desde a década de 60 por meio de alguns indicadores socioeconômicos, foi possível obter alguns resultados"
      ],
      "metadata": {
        "id": "LfQv0q9SJThs"
      }
    },
    {
      "cell_type": "markdown",
      "source": [
        "Conforme observado, tanto a taxa de mortalidade infantil quanto o índice de Gini (desigualdade) apresentaram queda ao longo do tempo, confirmando uma melhora no quadro social nestes pontos. Conforme esperado, observou-se também que o índice de Gini e o PIB Per Capita possuem uma correlação negativa e portanto, conclui-se que, a melhora no quadro social também está relacionada ao crescimento do PIB Per Capita. Percebe-se também um crescimento na expectativa de vida da população, quando se comparado os últimos 30 anos com os 30 anos prévios.\n"
      ],
      "metadata": {
        "id": "NU-gE3yGJZEl"
      }
    },
    {
      "cell_type": "markdown",
      "source": [
        "Entretanto, considerando um recorte temporal mais recente (2009-2019), percebe-se que é necessário ter atenção ao PIB Per Capita, que embora tenha sido superior à média histórica da amostra, está em uma tendência de queda. Por outro lado, o índice de Gini neste mesmo recorte temporal, tem atingido valores inferiores à média histórica e a inflação também registrou uma tendência de queda."
      ],
      "metadata": {
        "id": "Yq_ASfQIJet-"
      }
    }
  ]
}